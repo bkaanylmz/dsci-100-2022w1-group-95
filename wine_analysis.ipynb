{
 "cells": [
  {
   "cell_type": "markdown",
   "id": "afe9fe68-a77f-4e03-ab5a-5b307e3ea74c",
   "metadata": {},
   "source": [
    "****WINE ANALYSIS****"
   ]
  },
  {
   "cell_type": "markdown",
   "id": "17e0cad7-8553-4218-9cf5-2a08c7251ad6",
   "metadata": {},
   "source": [
    "**Introduction**"
   ]
  },
  {
   "cell_type": "markdown",
   "id": "892fb21b-106d-4b29-8332-f42c067b8609",
   "metadata": {},
   "source": [
    "We will be using the dataset \"wine\", from the url: https://archive.ics.uci.edu/ml/datasets/wine/wine.data\n",
    "\n",
    "The \"wine\" dataset contains the data of 13 attributes of wines, created from the same region of Italy, created from 3 different cultivars (cultivar 1, 2, and 3). A cultivar is a plant or fruit variety that has been cultivated for specific characteristics through selectively breeding. There is no information on what type of plant/fruit these cultivars are, therefore there is not enough information about the dataset to determine whether these 3 cultivars are 3 distinct plants/fruits, or 3 varieties of the same fruit/plant. After a chemical analysis has been performed on the wine, 13 chemical attributes, such as alcohol content, color intensity, hue, and amount of magnesium content, have been determined. With each of these 13 attributes, we will be able to create a classification model which predicts which of the 3 cultivars a wine originates from based on it’s chemical breakdown, answering the question we have divised for our project, “What cultivar does a wine belong to, based on it’s chemical breakdown?\""
   ]
  },
  {
   "cell_type": "markdown",
   "id": "a68fd132-12cc-410e-b147-92aa7c27597b",
   "metadata": {},
   "source": [
    "**Methods & Results**"
   ]
  },
  {
   "cell_type": "markdown",
   "id": "787f97ce-a4bd-49a1-8473-e4d3ae0d3786",
   "metadata": {},
   "source": [
    "*Code analysis narration:*\n",
    "\n"
   ]
  },
  {
   "cell_type": "markdown",
   "id": "5da34f2a-a572-4ea8-8d77-375a9d356ac6",
   "metadata": {},
   "source": []
  },
  {
   "cell_type": "markdown",
   "id": "6d536537-1e15-4361-a187-6c53f9a98e4c",
   "metadata": {},
   "source": [
    "**Discussion**"
   ]
  },
  {
   "cell_type": "code",
   "execution_count": null,
   "id": "dcbed50c-06f8-40f8-b769-8685096ac60d",
   "metadata": {},
   "outputs": [],
   "source": []
  },
  {
   "cell_type": "markdown",
   "id": "e8568b95-4a6d-46b9-84aa-4aba4bc45332",
   "metadata": {},
   "source": [
    "**References**"
   ]
  },
  {
   "cell_type": "code",
   "execution_count": null,
   "id": "610779f7-3ffd-4270-aa20-4b87b4c3af87",
   "metadata": {},
   "outputs": [],
   "source": []
  }
 ],
 "metadata": {
  "kernelspec": {
   "display_name": "R",
   "language": "R",
   "name": "ir"
  },
  "language_info": {
   "codemirror_mode": "r",
   "file_extension": ".r",
   "mimetype": "text/x-r-source",
   "name": "R",
   "pygments_lexer": "r",
   "version": "4.1.3"
  }
 },
 "nbformat": 4,
 "nbformat_minor": 5
}
