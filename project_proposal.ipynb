{
 "cells": [
  {
   "cell_type": "markdown",
   "id": "f1231e43-513f-43e0-b1f0-546464ab6964",
   "metadata": {},
   "source": [
    "TITLE"
   ]
  },
  {
   "cell_type": "code",
   "execution_count": null,
   "id": "b774e740-24f1-40f8-a993-f3062a0b54aa",
   "metadata": {},
   "outputs": [],
   "source": [
    "INTRO"
   ]
  },
  {
   "cell_type": "markdown",
   "id": "e8b0c387-62aa-4f27-8a06-8d3abd124d66",
   "metadata": {},
   "source": [
    "Provide some relevant background information on the topic so that someone unfamiliar with it will be prepared to understand the rest of your proposal\n",
    "Clearly state the question you will try to answer with your project\n",
    "Identify and describe the dataset that will be used to answer the question"
   ]
  },
  {
   "cell_type": "code",
   "execution_count": null,
   "id": "7931d063-4e30-4f7c-9e88-f747421ae2d3",
   "metadata": {},
   "outputs": [],
   "source": [
    "PRELIMINARY EXPLORATORY DATA ANALYSIS"
   ]
  },
  {
   "cell_type": "markdown",
   "id": "2bcc9b4c-763d-40fd-95af-eead29606b52",
   "metadata": {},
   "source": [
    "Demonstrate that the dataset can be read from the web into R \n",
    "Clean and wrangle your data into a tidy format\n",
    "Using only training data, summarize the data in at least one table (this is exploratory data analysis). An example of a useful table could be one that reports the number of observations in each class, the means of the predictor variables you plan to use in your analysis and how many rows have missing data. \n",
    "Using only training data, visualize the data with at least one plot relevant to the analysis you plan to do (this is exploratory data analysis). An example of a useful visualization could be one that compares the distributions of each of the predictor variables you plan to use in your analysis."
   ]
  },
  {
   "cell_type": "markdown",
   "id": "427a8252-0e67-442d-abbb-d5041e495505",
   "metadata": {},
   "source": [
    "METHODS"
   ]
  },
  {
   "cell_type": "markdown",
   "id": "ca3c034b-f3d5-47ec-a623-5ed196fea28b",
   "metadata": {},
   "source": [
    "Explain how you will conduct either your data analysis and which variables/columns you will use. Note - you do not need to use all variables/columns that exist in the raw data set. In fact, that's often not a good idea. For each variable think: is this a useful variable for prediction?\n",
    "Describe at least one way that you will visualize the results"
   ]
  },
  {
   "cell_type": "code",
   "execution_count": null,
   "id": "a771278b-8e23-4e53-b910-99bf6dfaaa43",
   "metadata": {},
   "outputs": [],
   "source": [
    "EXPECTED OUTCOME AND SIGNIFICANCE"
   ]
  },
  {
   "cell_type": "code",
   "execution_count": null,
   "id": "2994ec93-fc16-411d-80a2-0d98c09a56a0",
   "metadata": {},
   "outputs": [],
   "source": [
    "What do you expect to find?\n",
    "What impact could such findings have?\n",
    "What future questions could this lead to?"
   ]
  }
 ],
 "metadata": {
  "kernelspec": {
   "display_name": "R",
   "language": "R",
   "name": "ir"
  },
  "language_info": {
   "codemirror_mode": "r",
   "file_extension": ".r",
   "mimetype": "text/x-r-source",
   "name": "R",
   "pygments_lexer": "r",
   "version": "4.1.3"
  }
 },
 "nbformat": 4,
 "nbformat_minor": 5
}
