{
 "cells": [
  {
   "cell_type": "markdown",
   "id": "f1231e43-513f-43e0-b1f0-546464ab6964",
   "metadata": {},
   "source": [
    "WINE DATA ANYLYSIS"
   ]
  },
  {
   "cell_type": "markdown",
   "id": "442a06fa-a6d2-491f-abb9-15aaa8d35d81",
   "metadata": {},
   "source": [
    "Dataset from: https://archive.ics.uci.edu/ml/datasets/Wine"
   ]
  },
  {
   "cell_type": "markdown",
   "id": "9909edb2-8d5e-4ed5-865f-b82a0e9e48c7",
   "metadata": {},
   "source": [
    "INTRO"
   ]
  },
  {
   "cell_type": "markdown",
   "id": "e8b0c387-62aa-4f27-8a06-8d3abd124d66",
   "metadata": {},
   "source": [
    "We will be using the dataset \"wine\", from the url: https://archive.ics.uci.edu/ml/datasets/wine/wine.data\n",
    "\n",
    "\n",
    "The \"wine\" dataset contains the data of 13 attributes of wines, created from the same region of Italy, created from 3 different cultivars (cultivar 1, 2, and 3). A cultivar is a plant or fruit variety that has been cultivated for specific characteristics through selectively breeding. There is no information on what type of plant/fruit these cultivars are, therefore there is not enough information about the dataset to determine whether these 3 cultivars are 3 distinct plants/fruits, or 3 varieties of the same fruit/plant. After a chemical analysis has been performed on the wine, 13 chemical attributes, such as alcohol content, color intensity, hue, and amount of magnesium content, have been determined. With each of these 13 attributes, we will be able to create a classification model which predicts which of the 3 cultivars a wine originates from based on it’s chemical breakdown, answering the question we have divised for our project, “What cultivar does this wine belong to, based on it’s chemical breakdown?\""
   ]
  },
  {
   "cell_type": "markdown",
   "id": "e57c4036-6853-44ed-b814-1f2818350558",
   "metadata": {},
   "source": [
    "PRELIMINARY EXPLORATORY DATA ANALYSIS"
   ]
  },
  {
   "cell_type": "code",
   "execution_count": 27,
   "id": "8f436593-7bd7-461c-afc8-699452a00c0d",
   "metadata": {},
   "outputs": [
    {
     "data": {
      "text/html": [
       "<table class=\"dataframe\">\n",
       "<caption>A data.table: 6 × 14</caption>\n",
       "<thead>\n",
       "\t<tr><th scope=col>Cultivar</th><th scope=col>Alcohol</th><th scope=col>Malic_Acid</th><th scope=col>Ash</th><th scope=col>Alcalinity_Of_Ash</th><th scope=col>Magnesium</th><th scope=col>Total_Phenols</th><th scope=col>Flavanoids</th><th scope=col>Nonflavanoid_Phenols</th><th scope=col>Proanthocyanins</th><th scope=col>Color_Intensity</th><th scope=col>Hue</th><th scope=col>OD280/OD315_Of_Dilluted_Wines</th><th scope=col>Proline</th></tr>\n",
       "\t<tr><th scope=col>&lt;int&gt;</th><th scope=col>&lt;dbl&gt;</th><th scope=col>&lt;dbl&gt;</th><th scope=col>&lt;dbl&gt;</th><th scope=col>&lt;dbl&gt;</th><th scope=col>&lt;int&gt;</th><th scope=col>&lt;dbl&gt;</th><th scope=col>&lt;dbl&gt;</th><th scope=col>&lt;dbl&gt;</th><th scope=col>&lt;dbl&gt;</th><th scope=col>&lt;dbl&gt;</th><th scope=col>&lt;dbl&gt;</th><th scope=col>&lt;dbl&gt;</th><th scope=col>&lt;int&gt;</th></tr>\n",
       "</thead>\n",
       "<tbody>\n",
       "\t<tr><td>1</td><td>14.23</td><td>1.71</td><td>2.43</td><td>15.6</td><td>127</td><td>2.80</td><td>3.06</td><td>0.28</td><td>2.29</td><td>5.64</td><td>1.04</td><td>3.92</td><td>1065</td></tr>\n",
       "\t<tr><td>1</td><td>13.20</td><td>1.78</td><td>2.14</td><td>11.2</td><td>100</td><td>2.65</td><td>2.76</td><td>0.26</td><td>1.28</td><td>4.38</td><td>1.05</td><td>3.40</td><td>1050</td></tr>\n",
       "\t<tr><td>1</td><td>13.16</td><td>2.36</td><td>2.67</td><td>18.6</td><td>101</td><td>2.80</td><td>3.24</td><td>0.30</td><td>2.81</td><td>5.68</td><td>1.03</td><td>3.17</td><td>1185</td></tr>\n",
       "\t<tr><td>1</td><td>14.37</td><td>1.95</td><td>2.50</td><td>16.8</td><td>113</td><td>3.85</td><td>3.49</td><td>0.24</td><td>2.18</td><td>7.80</td><td>0.86</td><td>3.45</td><td>1480</td></tr>\n",
       "\t<tr><td>1</td><td>13.24</td><td>2.59</td><td>2.87</td><td>21.0</td><td>118</td><td>2.80</td><td>2.69</td><td>0.39</td><td>1.82</td><td>4.32</td><td>1.04</td><td>2.93</td><td> 735</td></tr>\n",
       "\t<tr><td>1</td><td>14.20</td><td>1.76</td><td>2.45</td><td>15.2</td><td>112</td><td>3.27</td><td>3.39</td><td>0.34</td><td>1.97</td><td>6.75</td><td>1.05</td><td>2.85</td><td>1450</td></tr>\n",
       "</tbody>\n",
       "</table>\n"
      ],
      "text/latex": [
       "A data.table: 6 × 14\n",
       "\\begin{tabular}{llllllllllllll}\n",
       " Cultivar & Alcohol & Malic\\_Acid & Ash & Alcalinity\\_Of\\_Ash & Magnesium & Total\\_Phenols & Flavanoids & Nonflavanoid\\_Phenols & Proanthocyanins & Color\\_Intensity & Hue & OD280/OD315\\_Of\\_Dilluted\\_Wines & Proline\\\\\n",
       " <int> & <dbl> & <dbl> & <dbl> & <dbl> & <int> & <dbl> & <dbl> & <dbl> & <dbl> & <dbl> & <dbl> & <dbl> & <int>\\\\\n",
       "\\hline\n",
       "\t 1 & 14.23 & 1.71 & 2.43 & 15.6 & 127 & 2.80 & 3.06 & 0.28 & 2.29 & 5.64 & 1.04 & 3.92 & 1065\\\\\n",
       "\t 1 & 13.20 & 1.78 & 2.14 & 11.2 & 100 & 2.65 & 2.76 & 0.26 & 1.28 & 4.38 & 1.05 & 3.40 & 1050\\\\\n",
       "\t 1 & 13.16 & 2.36 & 2.67 & 18.6 & 101 & 2.80 & 3.24 & 0.30 & 2.81 & 5.68 & 1.03 & 3.17 & 1185\\\\\n",
       "\t 1 & 14.37 & 1.95 & 2.50 & 16.8 & 113 & 3.85 & 3.49 & 0.24 & 2.18 & 7.80 & 0.86 & 3.45 & 1480\\\\\n",
       "\t 1 & 13.24 & 2.59 & 2.87 & 21.0 & 118 & 2.80 & 2.69 & 0.39 & 1.82 & 4.32 & 1.04 & 2.93 &  735\\\\\n",
       "\t 1 & 14.20 & 1.76 & 2.45 & 15.2 & 112 & 3.27 & 3.39 & 0.34 & 1.97 & 6.75 & 1.05 & 2.85 & 1450\\\\\n",
       "\\end{tabular}\n"
      ],
      "text/markdown": [
       "\n",
       "A data.table: 6 × 14\n",
       "\n",
       "| Cultivar &lt;int&gt; | Alcohol &lt;dbl&gt; | Malic_Acid &lt;dbl&gt; | Ash &lt;dbl&gt; | Alcalinity_Of_Ash &lt;dbl&gt; | Magnesium &lt;int&gt; | Total_Phenols &lt;dbl&gt; | Flavanoids &lt;dbl&gt; | Nonflavanoid_Phenols &lt;dbl&gt; | Proanthocyanins &lt;dbl&gt; | Color_Intensity &lt;dbl&gt; | Hue &lt;dbl&gt; | OD280/OD315_Of_Dilluted_Wines &lt;dbl&gt; | Proline &lt;int&gt; |\n",
       "|---|---|---|---|---|---|---|---|---|---|---|---|---|---|\n",
       "| 1 | 14.23 | 1.71 | 2.43 | 15.6 | 127 | 2.80 | 3.06 | 0.28 | 2.29 | 5.64 | 1.04 | 3.92 | 1065 |\n",
       "| 1 | 13.20 | 1.78 | 2.14 | 11.2 | 100 | 2.65 | 2.76 | 0.26 | 1.28 | 4.38 | 1.05 | 3.40 | 1050 |\n",
       "| 1 | 13.16 | 2.36 | 2.67 | 18.6 | 101 | 2.80 | 3.24 | 0.30 | 2.81 | 5.68 | 1.03 | 3.17 | 1185 |\n",
       "| 1 | 14.37 | 1.95 | 2.50 | 16.8 | 113 | 3.85 | 3.49 | 0.24 | 2.18 | 7.80 | 0.86 | 3.45 | 1480 |\n",
       "| 1 | 13.24 | 2.59 | 2.87 | 21.0 | 118 | 2.80 | 2.69 | 0.39 | 1.82 | 4.32 | 1.04 | 2.93 |  735 |\n",
       "| 1 | 14.20 | 1.76 | 2.45 | 15.2 | 112 | 3.27 | 3.39 | 0.34 | 1.97 | 6.75 | 1.05 | 2.85 | 1450 |\n",
       "\n"
      ],
      "text/plain": [
       "  Cultivar Alcohol Malic_Acid Ash  Alcalinity_Of_Ash Magnesium Total_Phenols\n",
       "1 1        14.23   1.71       2.43 15.6              127       2.80         \n",
       "2 1        13.20   1.78       2.14 11.2              100       2.65         \n",
       "3 1        13.16   2.36       2.67 18.6              101       2.80         \n",
       "4 1        14.37   1.95       2.50 16.8              113       3.85         \n",
       "5 1        13.24   2.59       2.87 21.0              118       2.80         \n",
       "6 1        14.20   1.76       2.45 15.2              112       3.27         \n",
       "  Flavanoids Nonflavanoid_Phenols Proanthocyanins Color_Intensity Hue \n",
       "1 3.06       0.28                 2.29            5.64            1.04\n",
       "2 2.76       0.26                 1.28            4.38            1.05\n",
       "3 3.24       0.30                 2.81            5.68            1.03\n",
       "4 3.49       0.24                 2.18            7.80            0.86\n",
       "5 2.69       0.39                 1.82            4.32            1.04\n",
       "6 3.39       0.34                 1.97            6.75            1.05\n",
       "  OD280/OD315_Of_Dilluted_Wines Proline\n",
       "1 3.92                          1065   \n",
       "2 3.40                          1050   \n",
       "3 3.17                          1185   \n",
       "4 3.45                          1480   \n",
       "5 2.93                           735   \n",
       "6 2.85                          1450   "
      ]
     },
     "metadata": {},
     "output_type": "display_data"
    }
   ],
   "source": [
    "url <- \"https://archive.ics.uci.edu/ml/machine-learning-databases/wine/wine.data\"\n",
    "library(data.table)\n",
    "library(tidyverse)\n",
    "library(repr)\n",
    "library(tidymodels)\n",
    "wine <- fread(url)\n",
    "colnames(wine) <- c(\"Cultivar\",\"Alcohol\",\"Malic_Acid\",\"Ash\",\"Alcalinity_Of_Ash\",\"Magnesium\",\"Total_Phenols\",\"Flavanoids\",\"Nonflavanoid_Phenols\",\"Proanthocyanins\",\"Color_Intensity\",\"Hue\",\"OD280/OD315_Of_Dilluted_Wines\",\"Proline\")\n",
    "head(wine)"
   ]
  },
  {
   "cell_type": "code",
   "execution_count": 25,
   "id": "a0737f78-bc44-49fb-85d5-7f5a8af5f1a5",
   "metadata": {},
   "outputs": [
    {
     "ename": "ERROR",
     "evalue": "\u001b[1m\u001b[33mError\u001b[39m in \u001b[1m\u001b[1m`chr_as_locations()`:\u001b[22m\n\u001b[33m!\u001b[39m Can't subset columns that don't exist.\n\u001b[31m✖\u001b[39m Column `Cultivar` doesn't exist.\n",
     "output_type": "error",
     "traceback": [
      "\u001b[1m\u001b[33mError\u001b[39m in \u001b[1m\u001b[1m`chr_as_locations()`:\u001b[22m\n\u001b[33m!\u001b[39m Can't subset columns that don't exist.\n\u001b[31m✖\u001b[39m Column `Cultivar` doesn't exist.\nTraceback:\n",
      "1. initial_split(wine, prop = 0.75, strata = Cultivar)",
      "2. mc_cv(data = data, prop = prop, strata = {\n .     {\n .         strata\n .     }\n . }, breaks = breaks, pool = pool, times = 1, ...)",
      "3. tidyselect::vars_select(names(data), !!enquo(strata))",
      "4. eval_select_impl(NULL, .vars, expr(c(!!!dots)), include = .include, \n .     exclude = .exclude, strict = .strict, name_spec = unique_name_spec, \n .     uniquely_named = TRUE, error_call = caller_env())",
      "5. with_subscript_errors(vars_select_eval(vars, expr, strict = strict, \n .     data = x, name_spec = name_spec, uniquely_named = uniquely_named, \n .     allow_rename = allow_rename, type = type, error_call = error_call), \n .     type = type)",
      "6. tryCatch(with_entraced_errors(expr), vctrs_error_subscript = function(cnd) {\n .     cnd$subscript_action <- subscript_action(type)\n .     cnd$subscript_elt <- \"column\"\n .     cnd_signal(cnd)\n . })",
      "7. tryCatchList(expr, classes, parentenv, handlers)",
      "8. tryCatchOne(expr, names, parentenv, handlers[[1L]])",
      "9. value[[3L]](cond)",
      "10. cnd_signal(cnd)",
      "11. signal_abort(cnd)"
     ]
    }
   ],
   "source": [
    "wine_split<- initial_split(wine, prop=0.75, strata=Cultivar)\n",
    "wine_training<- training(wine_split)\n",
    "wine_testing<- testing(wine_split)"
   ]
  },
  {
   "cell_type": "markdown",
   "id": "2bcc9b4c-763d-40fd-95af-eead29606b52",
   "metadata": {},
   "source": [
    "~ Demonstrate that the dataset can be read from the web into R \n",
    "\n",
    "~ Clean and wrangle your data into a tidy format\n",
    "\n",
    "Using only training data, summarize the data in at least one table (this is exploratory data analysis). An example of a useful table could be one that reports the number of observations in each class, the means of the predictor variables you plan to use in your analysis and how many rows have missing data. \n",
    "\n",
    "Using only training data, visualize the data with at least one plot relevant to the analysis you plan to do (this is exploratory data analysis). An example of a useful visualization could be one that compares the distributions of each of the predictor variables you plan to use in your analysis."
   ]
  },
  {
   "cell_type": "markdown",
   "id": "427a8252-0e67-442d-abbb-d5041e495505",
   "metadata": {},
   "source": [
    "METHODS"
   ]
  },
  {
   "cell_type": "markdown",
   "id": "ca3c034b-f3d5-47ec-a623-5ed196fea28b",
   "metadata": {},
   "source": [
    "Explain how you will conduct either your data analysis and which variables/columns you will use. Note - you do not need to use all variables/columns that exist in the raw data set. In fact, that's often not a good idea. For each variable think: is this a useful variable for prediction?\n",
    "Describe at least one way that you will visualize the results"
   ]
  },
  {
   "cell_type": "markdown",
   "id": "0884f391-0a65-459d-a7c7-9ec649fd9a65",
   "metadata": {},
   "source": [
    "EXPECTED OUTCOME AND SIGNIFICANCE"
   ]
  },
  {
   "cell_type": "markdown",
   "id": "9fa5bd81-a507-4241-a840-73e01a1a909c",
   "metadata": {},
   "source": [
    "What do you expect to find?\n",
    "What impact could such findings have?\n",
    "What future questions could this lead to?"
   ]
  }
 ],
 "metadata": {
  "kernelspec": {
   "display_name": "R",
   "language": "R",
   "name": "ir"
  },
  "language_info": {
   "codemirror_mode": "r",
   "file_extension": ".r",
   "mimetype": "text/x-r-source",
   "name": "R",
   "pygments_lexer": "r",
   "version": "4.1.3"
  }
 },
 "nbformat": 4,
 "nbformat_minor": 5
}
