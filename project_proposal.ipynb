{
 "cells": [
  {
   "cell_type": "markdown",
   "id": "f1231e43-513f-43e0-b1f0-546464ab6964",
   "metadata": {},
   "source": [
    "TITLE"
   ]
  },
  {
   "cell_type": "markdown",
   "id": "442a06fa-a6d2-491f-abb9-15aaa8d35d81",
   "metadata": {},
   "source": [
    "Dataset from: https://archive.ics.uci.edu/ml/datasets/Wine"
   ]
  },
  {
   "cell_type": "markdown",
   "id": "9909edb2-8d5e-4ed5-865f-b82a0e9e48c7",
   "metadata": {},
   "source": [
    "INTRO"
   ]
  },
  {
   "cell_type": "markdown",
   "id": "e8b0c387-62aa-4f27-8a06-8d3abd124d66",
   "metadata": {},
   "source": [
    "We will be using the dataset \"wine\", from the url: https://archive.ics.uci.edu/ml/datasets/wine/wine.data\n",
    "\n",
    "The \"wine\" dataset contains the data of 13 attributes of wines, created from the same region of Italy, created from 3 different cultivars (cultivar 1, 2, and 3). A cultivar is a plant or fruit variety that has been cultivated for specific characteristics through selectively breeding. There is no information on what type of plant/fruit these cultivars are, therefore there is not enough information about the dataset to determine whether these 3 cultivars are 3 distinct plants/fruits, or 3 varieties of the same fruit/plant. After a chemical analysis has been performed on the wine, 13 chemical attributes, such as alcohol content, color intensity, hue, and amount of magnesium content, have been determined. With each of these 13 attributes, we will be able to create a classification model which predicts which of the 3 cultivars a wine originates from based on it’s chemical breakdown, answering the question we have divised for our project, “What cultivar does this wine belong to, based on it’s chemical breakdown?”"
   ]
  },
  {
   "cell_type": "markdown",
   "id": "e57c4036-6853-44ed-b814-1f2818350558",
   "metadata": {},
   "source": [
    "PRELIMINARY EXPLORATORY DATA ANALYSIS"
   ]
  },
  {
   "cell_type": "markdown",
   "id": "2bcc9b4c-763d-40fd-95af-eead29606b52",
   "metadata": {},
   "source": [
    "Demonstrate that the dataset can be read from the web into R \n",
    "Clean and wrangle your data into a tidy format\n",
    "Using only training data, summarize the data in at least one table (this is exploratory data analysis). An example of a useful table could be one that reports the number of observations in each class, the means of the predictor variables you plan to use in your analysis and how many rows have missing data. \n",
    "Using only training data, visualize the data with at least one plot relevant to the analysis you plan to do (this is exploratory data analysis). An example of a useful visualization could be one that compares the distributions of each of the predictor variables you plan to use in your analysis."
   ]
  },
  {
   "cell_type": "markdown",
   "id": "427a8252-0e67-442d-abbb-d5041e495505",
   "metadata": {},
   "source": [
    "METHODS"
   ]
  },
  {
   "cell_type": "markdown",
   "id": "ca3c034b-f3d5-47ec-a623-5ed196fea28b",
   "metadata": {},
   "source": [
    "Explain how you will conduct either your data analysis and which variables/columns you will use. Note - you do not need to use all variables/columns that exist in the raw data set. In fact, that's often not a good idea. For each variable think: is this a useful variable for prediction?\n",
    "Describe at least one way that you will visualize the results"
   ]
  },
  {
   "cell_type": "markdown",
   "id": "0884f391-0a65-459d-a7c7-9ec649fd9a65",
   "metadata": {},
   "source": [
    "EXPECTED OUTCOME AND SIGNIFICANCE"
   ]
  },
  {
   "cell_type": "markdown",
   "id": "9fa5bd81-a507-4241-a840-73e01a1a909c",
   "metadata": {},
   "source": [
    "What do you expect to find?\n",
    "What impact could such findings have?\n",
    "What future questions could this lead to?"
   ]
  }
 ],
 "metadata": {
  "kernelspec": {
   "display_name": "R",
   "language": "R",
   "name": "ir"
  },
  "language_info": {
   "codemirror_mode": "r",
   "file_extension": ".r",
   "mimetype": "text/x-r-source",
   "name": "R",
   "pygments_lexer": "r",
   "version": "4.1.3"
  }
 },
 "nbformat": 4,
 "nbformat_minor": 5
}
