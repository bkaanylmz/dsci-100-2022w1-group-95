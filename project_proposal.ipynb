{
 "cells": [
  {
   "cell_type": "markdown",
   "id": "f1231e43-513f-43e0-b1f0-546464ab6964",
   "metadata": {},
   "source": [
    "**WINE DATA ANYLYSIS**"
   ]
  },
  {
   "cell_type": "markdown",
   "id": "442a06fa-a6d2-491f-abb9-15aaa8d35d81",
   "metadata": {},
   "source": [
    "Dataset from: https://archive.ics.uci.edu/ml/datasets/Wine"
   ]
  },
  {
   "cell_type": "markdown",
   "id": "9909edb2-8d5e-4ed5-865f-b82a0e9e48c7",
   "metadata": {},
   "source": [
    "**INTRO**"
   ]
  },
  {
   "cell_type": "markdown",
   "id": "e8b0c387-62aa-4f27-8a06-8d3abd124d66",
   "metadata": {},
   "source": [
    "We will be using the dataset \"wine\", from the url: https://archive.ics.uci.edu/ml/datasets/wine/wine.data\n",
    "\n",
    "\n",
    "The \"wine\" dataset contains the data of 13 attributes of wines, created from the same region of Italy, created from 3 different cultivars (cultivar 1, 2, and 3). A cultivar is a plant or fruit variety that has been cultivated for specific characteristics through selectively breeding. There is no information on what type of plant/fruit these cultivars are, therefore there is not enough information about the dataset to determine whether these 3 cultivars are 3 distinct plants/fruits, or 3 varieties of the same fruit/plant. After a chemical analysis has been performed on the wine, 13 chemical attributes, such as alcohol content, color intensity, hue, and amount of magnesium content, have been determined. With each of these 13 attributes, we will be able to create a classification model which predicts which of the 3 cultivars a wine originates from based on it’s chemical breakdown, answering the question we have divised for our project, “What cultivar does a wine belong to, based on it’s chemical breakdown?\""
   ]
  },
  {
   "cell_type": "markdown",
   "id": "e57c4036-6853-44ed-b814-1f2818350558",
   "metadata": {},
   "source": [
    "**PRELIMINARY EXPLORATORY DATA ANALYSIS**"
   ]
  },
  {
   "cell_type": "code",
   "execution_count": 9,
   "id": "8f436593-7bd7-461c-afc8-699452a00c0d",
   "metadata": {},
   "outputs": [
    {
     "data": {
      "text/html": [
       "<table class=\"dataframe\">\n",
       "<caption>A data.table: 6 × 14</caption>\n",
       "<thead>\n",
       "\t<tr><th scope=col>Cultivar</th><th scope=col>Alcohol</th><th scope=col>Malic_Acid</th><th scope=col>Ash</th><th scope=col>Alcalinity_Of_Ash</th><th scope=col>Magnesium</th><th scope=col>Total_Phenols</th><th scope=col>Flavanoids</th><th scope=col>Nonflavanoid_Phenols</th><th scope=col>Proanthocyanins</th><th scope=col>Color_Intensity</th><th scope=col>Hue</th><th scope=col>OD280/OD315_Of_Dilluted_Wines</th><th scope=col>Proline</th></tr>\n",
       "\t<tr><th scope=col>&lt;int&gt;</th><th scope=col>&lt;dbl&gt;</th><th scope=col>&lt;dbl&gt;</th><th scope=col>&lt;dbl&gt;</th><th scope=col>&lt;dbl&gt;</th><th scope=col>&lt;int&gt;</th><th scope=col>&lt;dbl&gt;</th><th scope=col>&lt;dbl&gt;</th><th scope=col>&lt;dbl&gt;</th><th scope=col>&lt;dbl&gt;</th><th scope=col>&lt;dbl&gt;</th><th scope=col>&lt;dbl&gt;</th><th scope=col>&lt;dbl&gt;</th><th scope=col>&lt;int&gt;</th></tr>\n",
       "</thead>\n",
       "<tbody>\n",
       "\t<tr><td>1</td><td>14.23</td><td>1.71</td><td>2.43</td><td>15.6</td><td>127</td><td>2.80</td><td>3.06</td><td>0.28</td><td>2.29</td><td>5.64</td><td>1.04</td><td>3.92</td><td>1065</td></tr>\n",
       "\t<tr><td>1</td><td>13.20</td><td>1.78</td><td>2.14</td><td>11.2</td><td>100</td><td>2.65</td><td>2.76</td><td>0.26</td><td>1.28</td><td>4.38</td><td>1.05</td><td>3.40</td><td>1050</td></tr>\n",
       "\t<tr><td>1</td><td>13.16</td><td>2.36</td><td>2.67</td><td>18.6</td><td>101</td><td>2.80</td><td>3.24</td><td>0.30</td><td>2.81</td><td>5.68</td><td>1.03</td><td>3.17</td><td>1185</td></tr>\n",
       "\t<tr><td>1</td><td>14.37</td><td>1.95</td><td>2.50</td><td>16.8</td><td>113</td><td>3.85</td><td>3.49</td><td>0.24</td><td>2.18</td><td>7.80</td><td>0.86</td><td>3.45</td><td>1480</td></tr>\n",
       "\t<tr><td>1</td><td>13.24</td><td>2.59</td><td>2.87</td><td>21.0</td><td>118</td><td>2.80</td><td>2.69</td><td>0.39</td><td>1.82</td><td>4.32</td><td>1.04</td><td>2.93</td><td> 735</td></tr>\n",
       "\t<tr><td>1</td><td>14.20</td><td>1.76</td><td>2.45</td><td>15.2</td><td>112</td><td>3.27</td><td>3.39</td><td>0.34</td><td>1.97</td><td>6.75</td><td>1.05</td><td>2.85</td><td>1450</td></tr>\n",
       "</tbody>\n",
       "</table>\n"
      ],
      "text/latex": [
       "A data.table: 6 × 14\n",
       "\\begin{tabular}{llllllllllllll}\n",
       " Cultivar & Alcohol & Malic\\_Acid & Ash & Alcalinity\\_Of\\_Ash & Magnesium & Total\\_Phenols & Flavanoids & Nonflavanoid\\_Phenols & Proanthocyanins & Color\\_Intensity & Hue & OD280/OD315\\_Of\\_Dilluted\\_Wines & Proline\\\\\n",
       " <int> & <dbl> & <dbl> & <dbl> & <dbl> & <int> & <dbl> & <dbl> & <dbl> & <dbl> & <dbl> & <dbl> & <dbl> & <int>\\\\\n",
       "\\hline\n",
       "\t 1 & 14.23 & 1.71 & 2.43 & 15.6 & 127 & 2.80 & 3.06 & 0.28 & 2.29 & 5.64 & 1.04 & 3.92 & 1065\\\\\n",
       "\t 1 & 13.20 & 1.78 & 2.14 & 11.2 & 100 & 2.65 & 2.76 & 0.26 & 1.28 & 4.38 & 1.05 & 3.40 & 1050\\\\\n",
       "\t 1 & 13.16 & 2.36 & 2.67 & 18.6 & 101 & 2.80 & 3.24 & 0.30 & 2.81 & 5.68 & 1.03 & 3.17 & 1185\\\\\n",
       "\t 1 & 14.37 & 1.95 & 2.50 & 16.8 & 113 & 3.85 & 3.49 & 0.24 & 2.18 & 7.80 & 0.86 & 3.45 & 1480\\\\\n",
       "\t 1 & 13.24 & 2.59 & 2.87 & 21.0 & 118 & 2.80 & 2.69 & 0.39 & 1.82 & 4.32 & 1.04 & 2.93 &  735\\\\\n",
       "\t 1 & 14.20 & 1.76 & 2.45 & 15.2 & 112 & 3.27 & 3.39 & 0.34 & 1.97 & 6.75 & 1.05 & 2.85 & 1450\\\\\n",
       "\\end{tabular}\n"
      ],
      "text/markdown": [
       "\n",
       "A data.table: 6 × 14\n",
       "\n",
       "| Cultivar &lt;int&gt; | Alcohol &lt;dbl&gt; | Malic_Acid &lt;dbl&gt; | Ash &lt;dbl&gt; | Alcalinity_Of_Ash &lt;dbl&gt; | Magnesium &lt;int&gt; | Total_Phenols &lt;dbl&gt; | Flavanoids &lt;dbl&gt; | Nonflavanoid_Phenols &lt;dbl&gt; | Proanthocyanins &lt;dbl&gt; | Color_Intensity &lt;dbl&gt; | Hue &lt;dbl&gt; | OD280/OD315_Of_Dilluted_Wines &lt;dbl&gt; | Proline &lt;int&gt; |\n",
       "|---|---|---|---|---|---|---|---|---|---|---|---|---|---|\n",
       "| 1 | 14.23 | 1.71 | 2.43 | 15.6 | 127 | 2.80 | 3.06 | 0.28 | 2.29 | 5.64 | 1.04 | 3.92 | 1065 |\n",
       "| 1 | 13.20 | 1.78 | 2.14 | 11.2 | 100 | 2.65 | 2.76 | 0.26 | 1.28 | 4.38 | 1.05 | 3.40 | 1050 |\n",
       "| 1 | 13.16 | 2.36 | 2.67 | 18.6 | 101 | 2.80 | 3.24 | 0.30 | 2.81 | 5.68 | 1.03 | 3.17 | 1185 |\n",
       "| 1 | 14.37 | 1.95 | 2.50 | 16.8 | 113 | 3.85 | 3.49 | 0.24 | 2.18 | 7.80 | 0.86 | 3.45 | 1480 |\n",
       "| 1 | 13.24 | 2.59 | 2.87 | 21.0 | 118 | 2.80 | 2.69 | 0.39 | 1.82 | 4.32 | 1.04 | 2.93 |  735 |\n",
       "| 1 | 14.20 | 1.76 | 2.45 | 15.2 | 112 | 3.27 | 3.39 | 0.34 | 1.97 | 6.75 | 1.05 | 2.85 | 1450 |\n",
       "\n"
      ],
      "text/plain": [
       "  Cultivar Alcohol Malic_Acid Ash  Alcalinity_Of_Ash Magnesium Total_Phenols\n",
       "1 1        14.23   1.71       2.43 15.6              127       2.80         \n",
       "2 1        13.20   1.78       2.14 11.2              100       2.65         \n",
       "3 1        13.16   2.36       2.67 18.6              101       2.80         \n",
       "4 1        14.37   1.95       2.50 16.8              113       3.85         \n",
       "5 1        13.24   2.59       2.87 21.0              118       2.80         \n",
       "6 1        14.20   1.76       2.45 15.2              112       3.27         \n",
       "  Flavanoids Nonflavanoid_Phenols Proanthocyanins Color_Intensity Hue \n",
       "1 3.06       0.28                 2.29            5.64            1.04\n",
       "2 2.76       0.26                 1.28            4.38            1.05\n",
       "3 3.24       0.30                 2.81            5.68            1.03\n",
       "4 3.49       0.24                 2.18            7.80            0.86\n",
       "5 2.69       0.39                 1.82            4.32            1.04\n",
       "6 3.39       0.34                 1.97            6.75            1.05\n",
       "  OD280/OD315_Of_Dilluted_Wines Proline\n",
       "1 3.92                          1065   \n",
       "2 3.40                          1050   \n",
       "3 3.17                          1185   \n",
       "4 3.45                          1480   \n",
       "5 2.93                           735   \n",
       "6 2.85                          1450   "
      ]
     },
     "metadata": {},
     "output_type": "display_data"
    }
   ],
   "source": [
    "url <- \"https://archive.ics.uci.edu/ml/machine-learning-databases/wine/wine.data\"\n",
    "library(data.table)\n",
    "library(tidyverse)\n",
    "library(repr)\n",
    "library(tidymodels)\n",
    "wine <- fread(url)\n",
    "colnames(wine) <- c(\"Cultivar\",\"Alcohol\",\"Malic_Acid\",\"Ash\",\"Alcalinity_Of_Ash\",\"Magnesium\",\"Total_Phenols\",\"Flavanoids\",\"Nonflavanoid_Phenols\",\"Proanthocyanins\",\"Color_Intensity\",\"Hue\",\"OD280/OD315_Of_Dilluted_Wines\",\"Proline\")\n",
    "head(wine)"
   ]
  },
  {
   "cell_type": "code",
   "execution_count": 23,
   "id": "a0737f78-bc44-49fb-85d5-7f5a8af5f1a5",
   "metadata": {},
   "outputs": [
    {
     "data": {
      "text/html": [
       "<table class=\"dataframe\">\n",
       "<caption>A tibble: 13 × 3</caption>\n",
       "<thead>\n",
       "\t<tr><th scope=col>number_of_observations</th><th scope=col>Predictors</th><th scope=col>mean</th></tr>\n",
       "\t<tr><th scope=col>&lt;int&gt;</th><th scope=col>&lt;chr&gt;</th><th scope=col>&lt;dbl&gt;</th></tr>\n",
       "</thead>\n",
       "<tbody>\n",
       "\t<tr><td>133</td><td>Alcohol                      </td><td> 13.0132331</td></tr>\n",
       "\t<tr><td>133</td><td>Malic_Acid                   </td><td>  2.4008271</td></tr>\n",
       "\t<tr><td>133</td><td>Ash                          </td><td>  2.3878195</td></tr>\n",
       "\t<tr><td>133</td><td>Alcalinity_Of_Ash            </td><td> 19.6120301</td></tr>\n",
       "\t<tr><td>133</td><td>Magnesium                    </td><td>100.3082707</td></tr>\n",
       "\t<tr><td>133</td><td>Total_Phenols                </td><td>  2.2935338</td></tr>\n",
       "\t<tr><td>133</td><td>Flavanoids                   </td><td>  2.0451128</td></tr>\n",
       "\t<tr><td>133</td><td>Nonflavanoid_Phenols         </td><td>  0.3709774</td></tr>\n",
       "\t<tr><td>133</td><td>Proanthocyanins              </td><td>  1.5863910</td></tr>\n",
       "\t<tr><td>133</td><td>Color_Intensity              </td><td>  5.0481955</td></tr>\n",
       "\t<tr><td>133</td><td>Hue                          </td><td>  0.9568872</td></tr>\n",
       "\t<tr><td>133</td><td>OD280/OD315_Of_Dilluted_Wines</td><td>  2.6016541</td></tr>\n",
       "\t<tr><td>133</td><td>Proline                      </td><td>740.2255639</td></tr>\n",
       "</tbody>\n",
       "</table>\n"
      ],
      "text/latex": [
       "A tibble: 13 × 3\n",
       "\\begin{tabular}{lll}\n",
       " number\\_of\\_observations & Predictors & mean\\\\\n",
       " <int> & <chr> & <dbl>\\\\\n",
       "\\hline\n",
       "\t 133 & Alcohol                       &  13.0132331\\\\\n",
       "\t 133 & Malic\\_Acid                    &   2.4008271\\\\\n",
       "\t 133 & Ash                           &   2.3878195\\\\\n",
       "\t 133 & Alcalinity\\_Of\\_Ash             &  19.6120301\\\\\n",
       "\t 133 & Magnesium                     & 100.3082707\\\\\n",
       "\t 133 & Total\\_Phenols                 &   2.2935338\\\\\n",
       "\t 133 & Flavanoids                    &   2.0451128\\\\\n",
       "\t 133 & Nonflavanoid\\_Phenols          &   0.3709774\\\\\n",
       "\t 133 & Proanthocyanins               &   1.5863910\\\\\n",
       "\t 133 & Color\\_Intensity               &   5.0481955\\\\\n",
       "\t 133 & Hue                           &   0.9568872\\\\\n",
       "\t 133 & OD280/OD315\\_Of\\_Dilluted\\_Wines &   2.6016541\\\\\n",
       "\t 133 & Proline                       & 740.2255639\\\\\n",
       "\\end{tabular}\n"
      ],
      "text/markdown": [
       "\n",
       "A tibble: 13 × 3\n",
       "\n",
       "| number_of_observations &lt;int&gt; | Predictors &lt;chr&gt; | mean &lt;dbl&gt; |\n",
       "|---|---|---|\n",
       "| 133 | Alcohol                       |  13.0132331 |\n",
       "| 133 | Malic_Acid                    |   2.4008271 |\n",
       "| 133 | Ash                           |   2.3878195 |\n",
       "| 133 | Alcalinity_Of_Ash             |  19.6120301 |\n",
       "| 133 | Magnesium                     | 100.3082707 |\n",
       "| 133 | Total_Phenols                 |   2.2935338 |\n",
       "| 133 | Flavanoids                    |   2.0451128 |\n",
       "| 133 | Nonflavanoid_Phenols          |   0.3709774 |\n",
       "| 133 | Proanthocyanins               |   1.5863910 |\n",
       "| 133 | Color_Intensity               |   5.0481955 |\n",
       "| 133 | Hue                           |   0.9568872 |\n",
       "| 133 | OD280/OD315_Of_Dilluted_Wines |   2.6016541 |\n",
       "| 133 | Proline                       | 740.2255639 |\n",
       "\n"
      ],
      "text/plain": [
       "   number_of_observations Predictors                    mean       \n",
       "1  133                    Alcohol                        13.0132331\n",
       "2  133                    Malic_Acid                      2.4008271\n",
       "3  133                    Ash                             2.3878195\n",
       "4  133                    Alcalinity_Of_Ash              19.6120301\n",
       "5  133                    Magnesium                     100.3082707\n",
       "6  133                    Total_Phenols                   2.2935338\n",
       "7  133                    Flavanoids                      2.0451128\n",
       "8  133                    Nonflavanoid_Phenols            0.3709774\n",
       "9  133                    Proanthocyanins                 1.5863910\n",
       "10 133                    Color_Intensity                 5.0481955\n",
       "11 133                    Hue                             0.9568872\n",
       "12 133                    OD280/OD315_Of_Dilluted_Wines   2.6016541\n",
       "13 133                    Proline                       740.2255639"
      ]
     },
     "metadata": {},
     "output_type": "display_data"
    }
   ],
   "source": [
    "wine_split<- initial_split(wine, prop=0.75, strata=Cultivar)\n",
    "wine_training<- training(wine_split)\n",
    "wine_testing<- testing(wine_split)\n",
    "\n",
    "wine_training_analysis<- wine_training |> \n",
    "                        summarize(n=n(), across(Alcohol:Proline, mean, na.rm=TRUE)) |>\n",
    "                        mutate(number_of_observations=n) |>\n",
    "                        select(-n) |>\n",
    "                        pivot_longer(cols=Alcohol:Proline, names_to=\"Predictors\", values_to=\"mean\") \n",
    "                        \n",
    "wine_training_analysis"
   ]
  },
  {
   "cell_type": "markdown",
   "id": "2bcc9b4c-763d-40fd-95af-eead29606b52",
   "metadata": {},
   "source": [
    "~ Demonstrate that the dataset can be read from the web into R \n",
    "\n",
    "~ Clean and wrangle your data into a tidy format\n",
    "\n",
    "Using only training data, summarize the data in at least one table (this is exploratory data analysis). An example of a useful table could be one that reports the number of observations in each class, the means of the predictor variables you plan to use in your analysis and how many rows have missing data. \n",
    "\n",
    "Using only training data, visualize the data with at least one plot relevant to the analysis you plan to do (this is exploratory data analysis). An example of a useful visualization could be one that compares the distributions of each of the predictor variables you plan to use in your analysis."
   ]
  },
  {
   "cell_type": "markdown",
   "id": "427a8252-0e67-442d-abbb-d5041e495505",
   "metadata": {},
   "source": [
    "**METHODS**"
   ]
  },
  {
   "cell_type": "markdown",
   "id": "ca3c034b-f3d5-47ec-a623-5ed196fea28b",
   "metadata": {},
   "source": [
    "Explain how you will conduct either your data analysis and which variables/columns you will use. Note - you do not need to use all variables/columns that exist in the raw data set. In fact, that's often not a good idea. For each variable think: is this a useful variable for prediction?\n",
    "\n",
    "We will conduct our data analysis through classification:\n",
    "    \n",
    "1. Wrangle the data to rename columns (raw data did not include column names)\n",
    "2. Split data into training data and testing data in a 3:1 ratio\n",
    "3. Create knn_tune, setting the neighbor= tune(), in order to perform cross-validation later\n",
    "4. Create wine_recipe, specificate the classifying object–cultivar, and the predictors in consideration for the model (every variable in the data except the cultivar). The data will also be scaled, baked, and prepped\n",
    "5. Create cross-validation with 5 folds using the vfold_cv function\n",
    "6. Create a wine_workflow, adding wine_recipe and knn_tune from step 3 and 4 \n",
    "7. Create wine_fit, using the function tune_grid to fit the model into k values 1-150\n",
    "8. Using a graph/table, we will identify the k value that provides the highest accuracy. It will be used to create our final classification model\n",
    "    - Wine_best_spec (neighbor=most accurate k value)\n",
    "    - Wine_best_fit (add recipe+model and fit wine_testing)\n",
    "    - Wine_best (wine_best_fit + predict wine_testing + bind_cols + metrics)\n",
    "\n",
    "For our data analysis, we will be using all 13 of the variables provided to us, as they are all numeric predictors, and contribute information about the wine content, which we can use to categorize and classify the wines.\n"
   ]
  },
  {
   "cell_type": "markdown",
   "id": "0884f391-0a65-459d-a7c7-9ec649fd9a65",
   "metadata": {},
   "source": [
    "**EXPECTED OUTCOME AND SIGNIFICANCE**"
   ]
  },
  {
   "cell_type": "markdown",
   "id": "9fa5bd81-a507-4241-a840-73e01a1a909c",
   "metadata": {},
   "source": [
    "What do you expect to find?\n",
    "\n",
    "- In this project, we expect to find ways to predict the original plant cultivars the wines were produced from.\n",
    "\n",
    "What impact could such findings have?\n",
    "\n",
    "- By comparing chemical observations, we would be able to determine whether or not a wine is authentically based in Italian, based on if it uses Italian-specific cultivars\n",
    "- The determination of cultivar based on its chemical properties can be used as evidence as the first step to prove scandal / false advertisement / misconductions of companies or factories for wine production / identification of the wine based on its properties, etc.\n",
    "    - For example, if a wine is being advertised as a specific type of cultivar, using the cultivar as a reason for unfair pricing, and the cultivar isn’t what they said it to be, the classification of its chemical property can be proposed as sample evidence to pursue further investigations\n",
    "- It can also be helpful for future studies on the properties of these cultivars \n",
    "\n",
    "What future questions could this lead to?\n",
    "- Do the chemical characteristics of these wines suggest that they originate from the same type of fruit, (ex. 3 different cultivars of grapes), or 3 distinct fruits?\n",
    "- Are there any factors that can affect the chemical properties of the wine? If so, how? By how much?\n",
    "    - Which properties would the factor(s) affect? Would it affect the prediction accuracy for classification model? \n",
    "    - If there are multiple factors, how would they influence the effects of one another? \n",
    "    - Examples of affecting factors:\n",
    "        - could be time, storing environment (humidity, pressure, temperature, human handling, etc)\n",
    "        - production method and details (fermentation method and time, fruit used (growth conditions, size, origin), etc. ). \n"
   ]
  },
  {
   "cell_type": "code",
   "execution_count": null,
   "id": "16ca7538-02c1-4997-b654-2df5c4d62357",
   "metadata": {},
   "outputs": [],
   "source": []
  }
 ],
 "metadata": {
  "kernelspec": {
   "display_name": "R",
   "language": "R",
   "name": "ir"
  },
  "language_info": {
   "codemirror_mode": "r",
   "file_extension": ".r",
   "mimetype": "text/x-r-source",
   "name": "R",
   "pygments_lexer": "r",
   "version": "4.1.3"
  }
 },
 "nbformat": 4,
 "nbformat_minor": 5
}
